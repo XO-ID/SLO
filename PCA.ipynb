{
  "nbformat": 4,
  "nbformat_minor": 0,
  "metadata": {
    "colab": {
      "name": "PCA.ipynb",
      "provenance": [],
      "authorship_tag": "ABX9TyNn3iquA4NeCrHQfgVzC9+W",
      "include_colab_link": true
    },
    "kernelspec": {
      "name": "python3",
      "display_name": "Python 3"
    },
    "language_info": {
      "name": "python"
    }
  },
  "cells": [
    {
      "cell_type": "markdown",
      "metadata": {
        "id": "view-in-github",
        "colab_type": "text"
      },
      "source": [
        "<a href=\"https://colab.research.google.com/github/XO-ID/SLO/blob/main/PCA.ipynb\" target=\"_parent\"><img src=\"https://colab.research.google.com/assets/colab-badge.svg\" alt=\"Open In Colab\"/></a>"
      ]
    },
    {
      "cell_type": "code",
      "metadata": {
        "colab": {
          "base_uri": "https://localhost:8080/"
        },
        "id": "tL6gtVbgpYnv",
        "outputId": "a659ef68-6aa4-41f8-927a-894e3980a4bd"
      },
      "source": [
        "!git clone https://github.com/syamsulrizal123/SLO.git"
      ],
      "execution_count": 1,
      "outputs": [
        {
          "output_type": "stream",
          "text": [
            "Cloning into 'data_cancer.csv'...\n",
            "fatal: repository 'https://github.com/syamsulrizal123/SLO/blob/main/data_cancer.csv/' not found\n"
          ],
          "name": "stdout"
        }
      ]
    }
  ]
}